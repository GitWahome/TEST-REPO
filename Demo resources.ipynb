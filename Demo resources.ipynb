{
 "cells": [
  {
   "cell_type": "markdown",
   "metadata": {},
   "source": [
    "# Video Rendering \n",
    "(With a url and proper syntax generation we can render videos using the custom video tags. Resizing remains asynchronous)"
   ]
  },
  {
   "cell_type": "code",
   "execution_count": 14,
   "metadata": {},
   "outputs": [
    {
     "data": {
      "text/html": [
       "<video width=\"950\" height=\"640\" controls>\n",
       "  <source src=\"https://d2r3twttwe1v7v.cloudfront.net/da7b9a86-a68e-4acc-b327-e16123634db6/zencoder-recording-600k.mp4?Expires=1552772250&Signature=afyZrwzNMCYC5Ym0wCarzV-jQeifZlja5XTNf1esulwleZBvP05qALHpSw0DD~kXxaW1~HsreGdz5JZ6ltT9jGXLhbq5rjSyfuaDbx8ZcGT5tFJ9s-4v3LEufVZsGjd17Q7q5ZxzV8J15AVJHDojmCC64PR45GjeiBIZlG7HQ0HwkmSAxoeFtycaTXXhiLOG6oR0dKNqNVfqchTUVo0OQTCo559hT7yFmXV484ACn50JeebM7VT5OgGBiTPl4iQbOLnzgr~sRqRC9TE-qu1TbB-ReA3zCv6WTyL-3LZyejv0wJG5fhW0CcJzuNguhc3LD~PTesHlkF~lZRhQRV1I6Q__&Key-Pair-Id=APKAIO7A4VEM7HWR5NGQ\" type=\"video/mp4\">\n",
       "</video>"
      ],
      "text/plain": [
       "<IPython.core.display.HTML object>"
      ]
     },
     "metadata": {},
     "output_type": "display_data"
    }
   ],
   "source": [
    "%%HTML\n",
    "<video width=\"950\" height=\"640\" controls>\n",
    "  <source src=\"https://d2r3twttwe1v7v.cloudfront.net/da7b9a86-a68e-4acc-b327-e16123634db6/zencoder-recording-600k.mp4?Expires=1552772250&Signature=afyZrwzNMCYC5Ym0wCarzV-jQeifZlja5XTNf1esulwleZBvP05qALHpSw0DD~kXxaW1~HsreGdz5JZ6ltT9jGXLhbq5rjSyfuaDbx8ZcGT5tFJ9s-4v3LEufVZsGjd17Q7q5ZxzV8J15AVJHDojmCC64PR45GjeiBIZlG7HQ0HwkmSAxoeFtycaTXXhiLOG6oR0dKNqNVfqchTUVo0OQTCo559hT7yFmXV484ACn50JeebM7VT5OgGBiTPl4iQbOLnzgr~sRqRC9TE-qu1TbB-ReA3zCv6WTyL-3LZyejv0wJG5fhW0CcJzuNguhc3LD~PTesHlkF~lZRhQRV1I6Q__&Key-Pair-Id=APKAIO7A4VEM7HWR5NGQ\" type=\"video/mp4\">\n",
    "</video>"
   ]
  },
  {
   "cell_type": "markdown",
   "metadata": {},
   "source": [
    "# Image rendering"
   ]
  },
  {
   "cell_type": "code",
   "execution_count": 15,
   "metadata": {},
   "outputs": [
    {
     "data": {
      "text/html": [
       "<img src=\"https://ih0.redbubble.net/image.385418445.9145/stf,small,600x600-c,0,0,1000,1000.u7.jpg\",width=60,height=60>"
      ],
      "text/plain": [
       "<IPython.core.display.HTML object>"
      ]
     },
     "metadata": {},
     "output_type": "display_data"
    }
   ],
   "source": [
    "%%HTML\n",
    "<img src=\"https://ih0.redbubble.net/image.385418445.9145/stf,small,600x600-c,0,0,1000,1000.u7.jpg\",width=60,height=60>"
   ]
  },
  {
   "cell_type": "markdown",
   "metadata": {},
   "source": [
    "# Raw text rendering(Easily done with markdowns)"
   ]
  },
  {
   "cell_type": "markdown",
   "metadata": {},
   "source": [
    "Incidunt odit odio sit impedit nihil et. Consequuntur adipisci praesentium doloribus pariatur. Et maiores labore et repellendus est. Aliquid sint quia sed necessitatibus. Consequuntur et inventore distinctio voluptatem quis assumenda."
   ]
  },
  {
   "cell_type": "code",
   "execution_count": 19,
   "metadata": {},
   "outputs": [
    {
     "data": {
      "text/html": [
       "<style>\n",
       ".test{\n",
       "    color:blue;\n",
       "    font-size: 20px;\n",
       "}\n",
       "</style>\n",
       "<p class = \"test\">\n",
       "Incidunt odit odio sit impedit nihil et. Consequuntur adipisci praesentium doloribus pariatur. \n",
       "Et maiores labore et repellendus est.\n",
       "Aliquid sint quia sed necessitatibus. Consequuntur et inventore distinctio voluptatem quis assumenda.\n",
       "<p>"
      ],
      "text/plain": [
       "<IPython.core.display.HTML object>"
      ]
     },
     "metadata": {},
     "output_type": "display_data"
    }
   ],
   "source": [
    "%%HTML\n",
    "<style>\n",
    ".test{\n",
    "    color:blue;\n",
    "    font-size: 20px;\n",
    "}\n",
    "</style>\n",
    "<p class = \"test\">\n",
    "Incidunt odit odio sit impedit nihil et. Consequuntur adipisci praesentium doloribus pariatur. \n",
    "Et maiores labore et repellendus est.\n",
    "Aliquid sint quia sed necessitatibus. Consequuntur et inventore distinctio voluptatem quis assumenda.\n",
    "<p>"
   ]
  },
  {
   "cell_type": "code",
   "execution_count": 30,
   "metadata": {},
   "outputs": [
    {
     "data": {
      "text/html": [
       "<iframe src=\"https://research.google.com/pubs/archive/44678.pdf\"\n",
       "   width=\"940px\" height=\"1500px\" >"
      ],
      "text/plain": [
       "<IPython.core.display.HTML object>"
      ]
     },
     "metadata": {},
     "output_type": "display_data"
    }
   ],
   "source": [
    "%%HTML\n",
    "<iframe src=\"https://research.google.com/pubs/archive/44678.pdf\"\n",
    "   width=\"940px\" height=\"1500px\" >"
   ]
  },
  {
   "cell_type": "markdown",
   "metadata": {},
   "source": [
    "# Table rendering(Think excell)\n",
    "# With the right data restructuring, we can have any data spurted out as a table using such modules as display"
   ]
  },
  {
   "cell_type": "code",
   "execution_count": 10,
   "metadata": {},
   "outputs": [
    {
     "data": {
      "text/html": [
       "<table>\n",
       "<tbody>\n",
       "<tr><td>Sun  </td><td style=\"text-align: right;\">696000</td><td style=\"text-align: right;\">   1.9891e+09</td></tr>\n",
       "<tr><td>Earth</td><td style=\"text-align: right;\">  6371</td><td style=\"text-align: right;\">5973.6       </td></tr>\n",
       "<tr><td>Moon </td><td style=\"text-align: right;\">  1737</td><td style=\"text-align: right;\">  73.5       </td></tr>\n",
       "<tr><td>Mars </td><td style=\"text-align: right;\">  3390</td><td style=\"text-align: right;\"> 641.85      </td></tr>\n",
       "</tbody>\n",
       "</table>"
      ],
      "text/plain": [
       "<IPython.core.display.HTML object>"
      ]
     },
     "metadata": {},
     "output_type": "display_data"
    }
   ],
   "source": [
    "from IPython.display import HTML, display\n",
    "#!pip install --user tabulate\n",
    "import tabulate\n",
    "table = [[\"Sun\",696000,1989100000],\n",
    "         [\"Earth\",6371,5973.6],\n",
    "         [\"Moon\",1737,73.5],\n",
    "         [\"Mars\",3390,641.85]]\n",
    "display(HTML(tabulate.tabulate(table, tablefmt='html')))"
   ]
  },
  {
   "cell_type": "markdown",
   "metadata": {},
   "source": [
    "Also, we can use css and html tables to render sheets in raw form"
   ]
  },
  {
   "cell_type": "code",
   "execution_count": 27,
   "metadata": {},
   "outputs": [
    {
     "data": {
      "text/html": [
       "<iframe  width=\"950\" height=\"950\" src=\"https://docs.google.com/spreadsheets/d/e/2PACX-1vRJEEBxObzmKtY734XgNUx8k48jAf_ZY6aD37Sx5w6p1wdIyhgYIU7uc9E1oKTzp2gEURHVRKh1v_Uy/pubhtml?gid=1427465626&amp;single=true&amp;widget=true&amp;headers=false\"></iframe>"
      ],
      "text/plain": [
       "<IPython.core.display.HTML object>"
      ]
     },
     "metadata": {},
     "output_type": "display_data"
    }
   ],
   "source": [
    "%%HTML\n",
    "<iframe  width=\"950\" height=\"950\" src=\"https://docs.google.com/spreadsheets/d/e/2PACX-1vRJEEBxObzmKtY734XgNUx8k48jAf_ZY6aD37Sx5w6p1wdIyhgYIU7uc9E1oKTzp2gEURHVRKh1v_Uy/pubhtml?gid=1427465626&amp;single=true&amp;widget=true&amp;headers=false\"></iframe>\n"
   ]
  }
 ],
 "metadata": {
  "kernelspec": {
   "display_name": "Python 3",
   "language": "python",
   "name": "python3"
  },
  "language_info": {
   "codemirror_mode": {
    "name": "ipython",
    "version": 3
   },
   "file_extension": ".py",
   "mimetype": "text/x-python",
   "name": "python",
   "nbconvert_exporter": "python",
   "pygments_lexer": "ipython3",
   "version": "3.6.5"
  }
 },
 "nbformat": 4,
 "nbformat_minor": 2
}
